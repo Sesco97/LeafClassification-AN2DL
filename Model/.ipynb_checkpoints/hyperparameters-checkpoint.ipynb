{
 "cells": [
  {
   "cell_type": "markdown",
   "metadata": {
    "id": "fD1B7B9aaC2G"
   },
   "source": [
    "# HyperParameters Tuning"
   ]
  },
  {
   "cell_type": "markdown",
   "metadata": {
    "id": "ZLjycUdFbK_-"
   },
   "source": [
    "## Initial Operations"
   ]
  },
  {
   "cell_type": "markdown",
   "metadata": {
    "id": "Pi7GHBcyarbc"
   },
   "source": [
    "### Import the libraries"
   ]
  },
  {
   "cell_type": "code",
   "execution_count": 1,
   "metadata": {
    "execution": {
     "iopub.execute_input": "2021-11-17T10:34:15.709873Z",
     "iopub.status.busy": "2021-11-17T10:34:15.709430Z",
     "iopub.status.idle": "2021-11-17T10:34:20.425421Z",
     "shell.execute_reply": "2021-11-17T10:34:20.424685Z",
     "shell.execute_reply.started": "2021-11-17T10:34:15.709838Z"
    },
    "id": "Kad8mvnp85ML"
   },
   "outputs": [
    {
     "name": "stdout",
     "output_type": "stream",
     "text": [
      "Requirement already satisfied: keras_tuner in c:\\python38\\lib\\site-packages (1.3.5)\n",
      "Requirement already satisfied: packaging in c:\\python38\\lib\\site-packages (from keras_tuner) (21.3)\n",
      "Requirement already satisfied: requests in c:\\python38\\lib\\site-packages (from keras_tuner) (2.28.2)\n",
      "Requirement already satisfied: kt-legacy in c:\\python38\\lib\\site-packages (from keras_tuner) (1.0.5)\n",
      "Requirement already satisfied: pyparsing!=3.0.5,>=2.0.2 in c:\\python38\\lib\\site-packages (from packaging->keras_tuner) (2.4.7)\n",
      "Requirement already satisfied: charset-normalizer<4,>=2 in c:\\python38\\lib\\site-packages (from requests->keras_tuner) (3.0.1)\n",
      "Requirement already satisfied: idna<4,>=2.5 in c:\\python38\\lib\\site-packages (from requests->keras_tuner) (3.4)\n",
      "Requirement already satisfied: urllib3<1.27,>=1.21.1 in c:\\python38\\lib\\site-packages (from requests->keras_tuner) (1.26.14)\n",
      "Requirement already satisfied: certifi>=2017.4.17 in c:\\python38\\lib\\site-packages (from requests->keras_tuner) (2022.12.7)\n",
      "Requirement already satisfied: tensorflow in c:\\python38\\lib\\site-packages (2.12.0)\n",
      "Requirement already satisfied: tensorflow-intel==2.12.0 in c:\\python38\\lib\\site-packages (from tensorflow) (2.12.0)\n",
      "Requirement already satisfied: absl-py>=1.0.0 in c:\\python38\\lib\\site-packages (from tensorflow-intel==2.12.0->tensorflow) (1.4.0)\n",
      "Requirement already satisfied: astunparse>=1.6.0 in c:\\python38\\lib\\site-packages (from tensorflow-intel==2.12.0->tensorflow) (1.6.3)\n",
      "Requirement already satisfied: flatbuffers>=2.0 in c:\\python38\\lib\\site-packages (from tensorflow-intel==2.12.0->tensorflow) (2.0.7)\n",
      "Requirement already satisfied: gast<=0.4.0,>=0.2.1 in c:\\python38\\lib\\site-packages (from tensorflow-intel==2.12.0->tensorflow) (0.4.0)\n",
      "Requirement already satisfied: google-pasta>=0.1.1 in c:\\python38\\lib\\site-packages (from tensorflow-intel==2.12.0->tensorflow) (0.2.0)\n",
      "Requirement already satisfied: h5py>=2.9.0 in c:\\python38\\lib\\site-packages (from tensorflow-intel==2.12.0->tensorflow) (3.8.0)\n",
      "Requirement already satisfied: jax>=0.3.15 in c:\\python38\\lib\\site-packages (from tensorflow-intel==2.12.0->tensorflow) (0.4.10)\n",
      "Requirement already satisfied: libclang>=13.0.0 in c:\\python38\\lib\\site-packages (from tensorflow-intel==2.12.0->tensorflow) (16.0.0)\n",
      "Requirement already satisfied: numpy<1.24,>=1.22 in c:\\python38\\lib\\site-packages (from tensorflow-intel==2.12.0->tensorflow) (1.23.5)\n",
      "Requirement already satisfied: opt-einsum>=2.3.2 in c:\\python38\\lib\\site-packages (from tensorflow-intel==2.12.0->tensorflow) (3.3.0)\n",
      "Requirement already satisfied: packaging in c:\\python38\\lib\\site-packages (from tensorflow-intel==2.12.0->tensorflow) (21.3)\n",
      "Requirement already satisfied: protobuf!=4.21.0,!=4.21.1,!=4.21.2,!=4.21.3,!=4.21.4,!=4.21.5,<5.0.0dev,>=3.20.3 in c:\\python38\\lib\\site-packages (from tensorflow-intel==2.12.0->tensorflow) (4.23.0)\n",
      "Requirement already satisfied: setuptools in c:\\python38\\lib\\site-packages (from tensorflow-intel==2.12.0->tensorflow) (58.2.0)\n",
      "Requirement already satisfied: six>=1.12.0 in c:\\python38\\lib\\site-packages (from tensorflow-intel==2.12.0->tensorflow) (1.16.0)\n",
      "Requirement already satisfied: termcolor>=1.1.0 in c:\\python38\\lib\\site-packages (from tensorflow-intel==2.12.0->tensorflow) (2.3.0)\n",
      "Requirement already satisfied: typing-extensions>=3.6.6 in c:\\python38\\lib\\site-packages (from tensorflow-intel==2.12.0->tensorflow) (4.5.0)\n",
      "Requirement already satisfied: wrapt<1.15,>=1.11.0 in c:\\python38\\lib\\site-packages (from tensorflow-intel==2.12.0->tensorflow) (1.14.1)\n",
      "Requirement already satisfied: grpcio<2.0,>=1.24.3 in c:\\python38\\lib\\site-packages (from tensorflow-intel==2.12.0->tensorflow) (1.54.2)\n",
      "Requirement already satisfied: tensorboard<2.13,>=2.12 in c:\\python38\\lib\\site-packages (from tensorflow-intel==2.12.0->tensorflow) (2.12.3)\n",
      "Requirement already satisfied: tensorflow-estimator<2.13,>=2.12.0 in c:\\python38\\lib\\site-packages (from tensorflow-intel==2.12.0->tensorflow) (2.12.0)\n",
      "Requirement already satisfied: keras<2.13,>=2.12.0 in c:\\python38\\lib\\site-packages (from tensorflow-intel==2.12.0->tensorflow) (2.12.0)\n",
      "Requirement already satisfied: tensorflow-io-gcs-filesystem>=0.23.1 in c:\\python38\\lib\\site-packages (from tensorflow-intel==2.12.0->tensorflow) (0.31.0)\n",
      "Requirement already satisfied: wheel<1.0,>=0.23.0 in c:\\python38\\lib\\site-packages (from astunparse>=1.6.0->tensorflow-intel==2.12.0->tensorflow) (0.40.0)\n",
      "Requirement already satisfied: ml-dtypes>=0.1.0 in c:\\python38\\lib\\site-packages (from jax>=0.3.15->tensorflow-intel==2.12.0->tensorflow) (0.1.0)\n",
      "Requirement already satisfied: scipy>=1.7 in c:\\python38\\lib\\site-packages (from jax>=0.3.15->tensorflow-intel==2.12.0->tensorflow) (1.9.3)\n",
      "Requirement already satisfied: google-auth<3,>=1.6.3 in c:\\python38\\lib\\site-packages (from tensorboard<2.13,>=2.12->tensorflow-intel==2.12.0->tensorflow) (2.18.0)\n",
      "Requirement already satisfied: google-auth-oauthlib<1.1,>=0.5 in c:\\python38\\lib\\site-packages (from tensorboard<2.13,>=2.12->tensorflow-intel==2.12.0->tensorflow) (1.0.0)\n",
      "Requirement already satisfied: markdown>=2.6.8 in c:\\python38\\lib\\site-packages (from tensorboard<2.13,>=2.12->tensorflow-intel==2.12.0->tensorflow) (3.4.3)\n",
      "Requirement already satisfied: requests<3,>=2.21.0 in c:\\python38\\lib\\site-packages (from tensorboard<2.13,>=2.12->tensorflow-intel==2.12.0->tensorflow) (2.28.2)\n",
      "Requirement already satisfied: tensorboard-data-server<0.8.0,>=0.7.0 in c:\\python38\\lib\\site-packages (from tensorboard<2.13,>=2.12->tensorflow-intel==2.12.0->tensorflow) (0.7.0)\n",
      "Requirement already satisfied: werkzeug>=1.0.1 in c:\\python38\\lib\\site-packages (from tensorboard<2.13,>=2.12->tensorflow-intel==2.12.0->tensorflow) (2.2.2)\n",
      "Requirement already satisfied: pyparsing!=3.0.5,>=2.0.2 in c:\\python38\\lib\\site-packages (from packaging->tensorflow-intel==2.12.0->tensorflow) (2.4.7)\n",
      "Requirement already satisfied: cachetools<6.0,>=2.0.0 in c:\\python38\\lib\\site-packages (from google-auth<3,>=1.6.3->tensorboard<2.13,>=2.12->tensorflow-intel==2.12.0->tensorflow) (5.3.0)\n",
      "Requirement already satisfied: pyasn1-modules>=0.2.1 in c:\\python38\\lib\\site-packages (from google-auth<3,>=1.6.3->tensorboard<2.13,>=2.12->tensorflow-intel==2.12.0->tensorflow) (0.3.0)\n",
      "Requirement already satisfied: urllib3<2.0 in c:\\python38\\lib\\site-packages (from google-auth<3,>=1.6.3->tensorboard<2.13,>=2.12->tensorflow-intel==2.12.0->tensorflow) (1.26.14)\n",
      "Requirement already satisfied: rsa<5,>=3.1.4 in c:\\python38\\lib\\site-packages (from google-auth<3,>=1.6.3->tensorboard<2.13,>=2.12->tensorflow-intel==2.12.0->tensorflow) (4.9)\n",
      "Requirement already satisfied: requests-oauthlib>=0.7.0 in c:\\python38\\lib\\site-packages (from google-auth-oauthlib<1.1,>=0.5->tensorboard<2.13,>=2.12->tensorflow-intel==2.12.0->tensorflow) (1.3.1)\n",
      "Requirement already satisfied: importlib-metadata>=4.4 in c:\\python38\\lib\\site-packages (from markdown>=2.6.8->tensorboard<2.13,>=2.12->tensorflow-intel==2.12.0->tensorflow) (5.0.0)\n",
      "Requirement already satisfied: charset-normalizer<4,>=2 in c:\\python38\\lib\\site-packages (from requests<3,>=2.21.0->tensorboard<2.13,>=2.12->tensorflow-intel==2.12.0->tensorflow) (3.0.1)\n",
      "Requirement already satisfied: idna<4,>=2.5 in c:\\python38\\lib\\site-packages (from requests<3,>=2.21.0->tensorboard<2.13,>=2.12->tensorflow-intel==2.12.0->tensorflow) (3.4)\n",
      "Requirement already satisfied: certifi>=2017.4.17 in c:\\python38\\lib\\site-packages (from requests<3,>=2.21.0->tensorboard<2.13,>=2.12->tensorflow-intel==2.12.0->tensorflow) (2022.12.7)\n",
      "Requirement already satisfied: MarkupSafe>=2.1.1 in c:\\python38\\lib\\site-packages (from werkzeug>=1.0.1->tensorboard<2.13,>=2.12->tensorflow-intel==2.12.0->tensorflow) (2.1.1)\n",
      "Requirement already satisfied: zipp>=0.5 in c:\\python38\\lib\\site-packages (from importlib-metadata>=4.4->markdown>=2.6.8->tensorboard<2.13,>=2.12->tensorflow-intel==2.12.0->tensorflow) (3.8.1)\n",
      "Requirement already satisfied: pyasn1<0.6.0,>=0.4.6 in c:\\python38\\lib\\site-packages (from pyasn1-modules>=0.2.1->google-auth<3,>=1.6.3->tensorboard<2.13,>=2.12->tensorflow-intel==2.12.0->tensorflow) (0.5.0)\n",
      "Requirement already satisfied: oauthlib>=3.0.0 in c:\\python38\\lib\\site-packages (from requests-oauthlib>=0.7.0->google-auth-oauthlib<1.1,>=0.5->tensorboard<2.13,>=2.12->tensorflow-intel==2.12.0->tensorflow) (3.2.2)\n"
     ]
    }
   ],
   "source": [
    "!pip install keras_tuner\n",
    "!pip install tensorflow\n",
    "\n",
    "import os\n",
    "import numpy as np\n",
    "import random\n",
    "import tensorflow as tf\n",
    "import keras_tuner as kt\n",
    "import matplotlib.pyplot as plt\n",
    "from PIL import Image\n",
    "from tensorflow.keras.preprocessing.image import ImageDataGenerator\n",
    "\n",
    "tfk = tf.keras\n",
    "tfkl = tf.keras.layers"
   ]
  },
  {
   "cell_type": "markdown",
   "metadata": {
    "id": "SR4yzYgXat7I"
   },
   "source": [
    "### Set random seed for reproducibility"
   ]
  },
  {
   "cell_type": "code",
   "execution_count": 2,
   "metadata": {
    "execution": {
     "iopub.execute_input": "2021-11-17T10:34:20.428318Z",
     "iopub.status.busy": "2021-11-17T10:34:20.427881Z",
     "iopub.status.idle": "2021-11-17T10:34:20.434835Z",
     "shell.execute_reply": "2021-11-17T10:34:20.433224Z",
     "shell.execute_reply.started": "2021-11-17T10:34:20.428281Z"
    },
    "id": "iO9iF8fUO11O"
   },
   "outputs": [],
   "source": [
    "# Random seed for reproducibility\n",
    "seed = 69\n",
    "\n",
    "random.seed(seed)\n",
    "os.environ['PYTHONHASHSEED'] = str(seed)\n",
    "np.random.seed(seed)\n",
    "tf.random.set_seed(seed)\n",
    "tf.compat.v1.set_random_seed(seed)"
   ]
  },
  {
   "cell_type": "markdown",
   "metadata": {
    "id": "GHDgTOQLayoM"
   },
   "source": [
    "### Metadata"
   ]
  },
  {
   "cell_type": "code",
   "execution_count": 8,
   "metadata": {
    "execution": {
     "iopub.execute_input": "2021-11-17T10:34:20.436942Z",
     "iopub.status.busy": "2021-11-17T10:34:20.436697Z",
     "iopub.status.idle": "2021-11-17T10:34:20.451647Z",
     "shell.execute_reply": "2021-11-17T10:34:20.450942Z",
     "shell.execute_reply.started": "2021-11-17T10:34:20.436907Z"
    },
    "id": "voCaRwS49Mol"
   },
   "outputs": [],
   "source": [
    "training_dir = 'C:/Users/kekko/OneDrive/Documenti/GitHub/Leaf Classification/Data/dataset_no_corrupted/training'\n",
    "validation_dir = 'C:/Users/kekko/OneDrive/Documenti/GitHub/Leaf Classification/Data/dataset_no_corrupted/validation'"
   ]
  },
  {
   "cell_type": "code",
   "execution_count": 4,
   "metadata": {
    "execution": {
     "iopub.execute_input": "2021-11-17T10:34:20.454259Z",
     "iopub.status.busy": "2021-11-17T10:34:20.452767Z",
     "iopub.status.idle": "2021-11-17T10:34:20.459704Z",
     "shell.execute_reply": "2021-11-17T10:34:20.459054Z",
     "shell.execute_reply.started": "2021-11-17T10:34:20.454182Z"
    },
    "id": "8pzhE2DTTNyj"
   },
   "outputs": [],
   "source": [
    "input_shape = (256, 256, 3)\n",
    "epochs = 200"
   ]
  },
  {
   "cell_type": "markdown",
   "metadata": {
    "id": "JejthrwZAGzO"
   },
   "source": [
    "## Model - Transfer Learning from InceptionResNetV2"
   ]
  },
  {
   "cell_type": "markdown",
   "metadata": {
    "id": "x9KwHqXIbTkX"
   },
   "source": [
    "### Data Generators"
   ]
  },
  {
   "cell_type": "code",
   "execution_count": 9,
   "metadata": {
    "execution": {
     "iopub.execute_input": "2021-11-17T10:34:20.462863Z",
     "iopub.status.busy": "2021-11-17T10:34:20.462545Z",
     "iopub.status.idle": "2021-11-17T10:34:23.325357Z",
     "shell.execute_reply": "2021-11-17T10:34:23.324585Z",
     "shell.execute_reply.started": "2021-11-17T10:34:20.462833Z"
    },
    "id": "sqohXOL3AJyQ"
   },
   "outputs": [
    {
     "name": "stdout",
     "output_type": "stream",
     "text": [
      "Found 16167 images belonging to 14 classes.\n",
      "Found 1540 images belonging to 14 classes.\n"
     ]
    }
   ],
   "source": [
    "from tensorflow.keras.applications.inception_resnet_v2 import preprocess_input\n",
    "\n",
    "train_data_gen = ImageDataGenerator(rotation_range=90,\n",
    "                                    height_shift_range=100,\n",
    "                                    width_shift_range=100,\n",
    "                                    zoom_range=0.5,\n",
    "                                    horizontal_flip=True,\n",
    "                                    vertical_flip=True,\n",
    "                                    shear_range = 0.25,\n",
    "                                    fill_mode='reflect',\n",
    "                                    brightness_range=[0.5,1.5],\n",
    "                                    preprocessing_function = preprocess_input)\n",
    "val_data_gen = ImageDataGenerator(preprocessing_function = preprocess_input)\n",
    "\n",
    "train_gen = train_data_gen.flow_from_directory(directory=training_dir,\n",
    "                                               target_size=(256,256),\n",
    "                                               color_mode='rgb',\n",
    "                                               classes=None,\n",
    "                                               class_mode='categorical',\n",
    "                                               batch_size=128,\n",
    "                                               shuffle=True,\n",
    "                                               seed=seed)\n",
    "validation_gen = val_data_gen.flow_from_directory(directory=validation_dir,\n",
    "                                           target_size=(256,256),\n",
    "                                           color_mode='rgb',\n",
    "                                           classes=None,\n",
    "                                           class_mode='categorical',\n",
    "                                           batch_size=128,\n",
    "                                           shuffle=True,\n",
    "                                           seed=seed)"
   ]
  },
  {
   "cell_type": "markdown",
   "metadata": {
    "id": "bYXz7kR0glhL"
   },
   "source": [
    "### Class Weight (for Unbalanced Classes)"
   ]
  },
  {
   "cell_type": "code",
   "execution_count": 10,
   "metadata": {
    "execution": {
     "iopub.execute_input": "2021-11-17T10:34:23.327246Z",
     "iopub.status.busy": "2021-11-17T10:34:23.326586Z",
     "iopub.status.idle": "2021-11-17T10:34:23.343137Z",
     "shell.execute_reply": "2021-11-17T10:34:23.342507Z",
     "shell.execute_reply.started": "2021-11-17T10:34:23.327206Z"
    },
    "id": "Og7f5o4lgp1j"
   },
   "outputs": [],
   "source": [
    "classes = dict()\n",
    "for label in sorted(os.listdir(training_dir)):\n",
    "  classes[label] = len(os.listdir(training_dir + \"/\" + label))\n",
    "total = 0\n",
    "class_weight = dict()\n",
    "for i, samples_number in enumerate(classes.values()):\n",
    "    class_weight[i] = 1/samples_number\n",
    "    total += samples_number\n",
    "class_weight = {key:value*total/14 for key, value in class_weight.items()}"
   ]
  },
  {
   "cell_type": "markdown",
   "metadata": {
    "id": "jJDeEHBniyqG"
   },
   "source": [
    "### Supernet (InceptionResNetV2)"
   ]
  },
  {
   "cell_type": "code",
   "execution_count": null,
   "metadata": {
    "colab": {
     "base_uri": "https://localhost:8080/"
    },
    "execution": {
     "iopub.execute_input": "2021-11-17T10:34:23.344661Z",
     "iopub.status.busy": "2021-11-17T10:34:23.344394Z",
     "iopub.status.idle": "2021-11-17T10:34:31.663765Z",
     "shell.execute_reply": "2021-11-17T10:34:31.663030Z",
     "shell.execute_reply.started": "2021-11-17T10:34:23.344627Z"
    },
    "executionInfo": {
     "elapsed": 5325,
     "status": "ok",
     "timestamp": 1637783859377,
     "user": {
      "displayName": "Andrea Deretti",
      "photoUrl": "https://lh3.googleusercontent.com/a/default-user=s64",
      "userId": "07489008405747309706"
     },
     "user_tz": -60
    },
    "id": "nHbmUsyNcGcZ",
    "jupyter": {
     "outputs_hidden": true
    },
    "outputId": "20010480-b03b-48a2-b586-7f3e13070a3f"
   },
   "outputs": [
    {
     "name": "stdout",
     "output_type": "stream",
     "text": [
      "Downloading data from https://storage.googleapis.com/tensorflow/keras-applications/inception_v3/inception_v3_weights_tf_dim_ordering_tf_kernels_notop.h5\n",
      "87916544/87910968 [==============================] - 1s 0us/step\n",
      "87924736/87910968 [==============================] - 1s 0us/step\n"
     ]
    }
   ],
   "source": [
    "# Download the supernet\n",
    "supernet = tfk.applications.inception_resnet_v2.InceptionResNetV2(\n",
    "    include_top=False,\n",
    "    weights=\"imagenet\",\n",
    "    input_shape=(256,256,3)\n",
    ")"
   ]
  },
  {
   "cell_type": "markdown",
   "metadata": {
    "id": "0nQZaQoziyqH"
   },
   "source": [
    "### Model Definition"
   ]
  },
  {
   "cell_type": "code",
   "execution_count": null,
   "metadata": {
    "execution": {
     "iopub.execute_input": "2021-11-17T10:34:31.665770Z",
     "iopub.status.busy": "2021-11-17T10:34:31.665483Z",
     "iopub.status.idle": "2021-11-17T10:34:33.029612Z",
     "shell.execute_reply": "2021-11-17T10:34:33.028869Z",
     "shell.execute_reply.started": "2021-11-17T10:34:31.665736Z"
    },
    "id": "Lkv7jWRlBckt"
   },
   "outputs": [],
   "source": [
    "# Build the model\n",
    "def build_model(hp):\n",
    "  # Fine Tuning - Freeze the first layers\n",
    "  fine_tuning_parameters = hp.Choice('fine_tuning_parameters',values = [460,510,600])\n",
    "  supernet.trainable = True\n",
    "  for i, layer in enumerate(supernet.layers[:fine_tuning_parameters]):\n",
    "    layer.trainable=False\n",
    "  \n",
    "  input_layer = tfk.Input(shape=input_shape)\n",
    "  features_extractor = supernet(input_layer)\n",
    "  flattening = tfkl.Flatten(name='Flattening')(features_extractor)\n",
    "  dp_parameter1 = hp.Float(\"dp_parameter1\",min_value = 0, max_value = 1)\n",
    "  dropuout_flattening = tfkl.Dropout(dp_parameter1, seed=seed)(flattening)\n",
    "  units_parameter1 = hp.Int('units_parameter1', min_value=32, max_value=512, step=32)\n",
    "  dense1 = tfkl.Dense(\n",
    "      units_parameter1, \n",
    "      activation='relu',\n",
    "      kernel_initializer = tfk.initializers.GlorotUniform(seed))(dropuout_flattening)\n",
    "  dp_parameter2 = hp.Float(\"dp_parameter2\",min_value = 0, max_value = 1)\n",
    "  dropout_dense1 = tfkl.Dropout(dp_parameter2, seed=seed)(dense1)\n",
    "  units_parameter2 = hp.Int('units_parameter2', min_value=32, max_value=512, step=32)\n",
    "  dense2 = tfkl.Dense(\n",
    "      units_parameter2, \n",
    "      activation='relu',\n",
    "      kernel_initializer = tfk.initializers.GlorotUniform(seed))(dropout_dense1)\n",
    "  dp_parameter3 = hp.Float(\"dp_parameter3\",min_value = 0, max_value = 1)\n",
    "  dropout_dense2 = tfkl.Dropout(dp_parameter3, seed=seed)(dense2)\n",
    "  units_parameter3 = hp.Int('units_parameter3', min_value=32, max_value=512, step=32)\n",
    "  dense3 = tfkl.Dense(\n",
    "      units_parameter3, \n",
    "      activation='relu',\n",
    "      kernel_initializer = tfk.initializers.GlorotUniform(seed))(dropout_dense2)\n",
    "  dp_parameter4 = hp.Float(\"dp_parameter4\",min_value = 0, max_value = 1)\n",
    "  dropout_dense3 = tfkl.Dropout(dp_parameter4, seed=seed)(dense3)\n",
    "  output_layer = tfkl.Dense(\n",
    "      14, \n",
    "      activation='softmax',\n",
    "      kernel_initializer = tfk.initializers.GlorotUniform(seed))(dropout_dense3)\n",
    "  model = tfk.Model(inputs=input_layer, outputs=output_layer, name='InceptionResNetV2')\n",
    "  model.compile(loss=tfk.losses.CategoricalCrossentropy(), optimizer=tfk.optimizers.Adam(), metrics='accuracy')\n",
    "\n",
    "  return model"
   ]
  },
  {
   "cell_type": "markdown",
   "metadata": {
    "id": "6A3nBPOmvEXx"
   },
   "source": [
    "#### Tuning of the Parameters"
   ]
  },
  {
   "cell_type": "code",
   "execution_count": null,
   "metadata": {
    "id": "aIRVlZcE2DZC"
   },
   "outputs": [],
   "source": [
    "tuner = kt.Hyperband(build_model,\n",
    "                     objective='val_accuracy',\n",
    "                     max_epochs=30,\n",
    "                     project_name='InceptionResNetV2')\n",
    "early_stopping = tfk.callbacks.EarlyStopping(monitor='val_accuracy', mode='max', patience=5)\n",
    "tuner.search(x = train_gen, epochs=50, validation_data = validation_gen, callbacks=[early_stopping])"
   ]
  },
  {
   "cell_type": "code",
   "execution_count": null,
   "metadata": {
    "id": "JqTQ2S7VxprD"
   },
   "outputs": [],
   "source": [
    "best_hps = tuner.get_best_hyperparameters(num_trials=1)[0]\n",
    "print(best_hps)"
   ]
  }
 ],
 "metadata": {
  "accelerator": "GPU",
  "colab": {
   "collapsed_sections": [
    "SR4yzYgXat7I",
    "x9KwHqXIbTkX",
    "bYXz7kR0glhL",
    "jJDeEHBniyqG"
   ],
   "name": "hyperparameters.ipynb",
   "provenance": []
  },
  "kernelspec": {
   "display_name": "Python 3 (ipykernel)",
   "language": "python",
   "name": "python3"
  },
  "language_info": {
   "codemirror_mode": {
    "name": "ipython",
    "version": 3
   },
   "file_extension": ".py",
   "mimetype": "text/x-python",
   "name": "python",
   "nbconvert_exporter": "python",
   "pygments_lexer": "ipython3",
   "version": "3.8.3"
  }
 },
 "nbformat": 4,
 "nbformat_minor": 1
}
