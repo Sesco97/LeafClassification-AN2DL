{
 "cells": [
  {
   "cell_type": "code",
   "execution_count": null,
   "metadata": {
    "id": "zfSd3s7cYK7P"
   },
   "outputs": [],
   "source": [
    "import os\n",
    "import numpy as np\n",
    "import random\n",
    "import tensorflow as tf\n",
    "import matplotlib.pyplot as plt\n",
    "from tensorflow.keras.preprocessing.image import ImageDataGenerator\n",
    "from sklearn.metrics import confusion_matrix\n",
    "import seaborn as sns\n",
    "\n",
    "tfk = tf.keras"
   ]
  },
  {
   "cell_type": "code",
   "execution_count": null,
   "metadata": {
    "id": "z-x2-1fVX2bB"
   },
   "outputs": [],
   "source": [
    "# Load the Model\n",
    "model = tf.keras.models.load_model('../Output/Second/Checkpoint/Model.hdf5')\n",
    "\n",
    "# Directory of the Data\n",
    "test_dir = '../Data/test'"
   ]
  },
  {
   "cell_type": "code",
   "execution_count": null,
   "metadata": {
    "colab": {
     "base_uri": "https://localhost:8080/"
    },
    "executionInfo": {
     "elapsed": 3332,
     "status": "ok",
     "timestamp": 1638039112658,
     "user": {
      "displayName": "Michele Russo",
      "photoUrl": "https://lh3.googleusercontent.com/a-/AOh14GhyAOV7v4rD3SsSLhmGKIAPUCp5S_U_b_Max0XoRw=s64",
      "userId": "05058015320206708993"
     },
     "user_tz": -60
    },
    "id": "5noHpEKRYYcn",
    "outputId": "f4dd7a9b-3077-453a-a4a0-5cec31b8ae78"
   },
   "outputs": [],
   "source": [
    "from tensorflow.keras.applications.inception_resnet_v2 import preprocess_input\n",
    "test_dir = 'test'\n",
    "test_data_gen = ImageDataGenerator(preprocessing_function = preprocess_input)\n",
    "test_gen = test_data_gen.flow_from_directory(directory=test_dir,\n",
    "                                              target_size=(256,256),\n",
    "                                              color_mode='rgb',\n",
    "                                              classes=None, # can be set to labels\n",
    "                                              class_mode='categorical',\n",
    "                                              shuffle=False\n",
    "                                             )"
   ]
  },
  {
   "cell_type": "code",
   "execution_count": null,
   "metadata": {
    "colab": {
     "base_uri": "https://localhost:8080/"
    },
    "executionInfo": {
     "elapsed": 1046301,
     "status": "ok",
     "timestamp": 1638037601796,
     "user": {
      "displayName": "Michele Russo",
      "photoUrl": "https://lh3.googleusercontent.com/a-/AOh14GhyAOV7v4rD3SsSLhmGKIAPUCp5S_U_b_Max0XoRw=s64",
      "userId": "05058015320206708993"
     },
     "user_tz": -60
    },
    "id": "AkbcYV-iYwxk",
    "outputId": "eb2ef13e-b0b4-4f4a-802a-745de82a898e"
   },
   "outputs": [],
   "source": [
    "# Compute the Accuracy on the Test Set\n",
    "model_metrics = model.evaluate(test_gen, return_dict=True)\n",
    "print(model_metrics)"
   ]
  },
  {
   "cell_type": "code",
   "execution_count": null,
   "metadata": {
    "id": "yGFOUsrGbYj_"
   },
   "outputs": [],
   "source": [
    "# Build the Confusion Matrix\n",
    "predictions = model.predict(test_gen)\n",
    "cm = confusion_matrix(test_gen.labels, np.argmax(predictions, axis=-1), normalize = \"pred\")"
   ]
  },
  {
   "cell_type": "code",
   "execution_count": null,
   "metadata": {
    "colab": {
     "base_uri": "https://localhost:8080/",
     "height": 542
    },
    "executionInfo": {
     "elapsed": 618,
     "status": "ok",
     "timestamp": 1638038834754,
     "user": {
      "displayName": "Michele Russo",
      "photoUrl": "https://lh3.googleusercontent.com/a-/AOh14GhyAOV7v4rD3SsSLhmGKIAPUCp5S_U_b_Max0XoRw=s64",
      "userId": "05058015320206708993"
     },
     "user_tz": -60
    },
    "id": "YFLxfmYvpEBf",
    "outputId": "e5130806-a8f4-4dce-914e-2a80d282161f"
   },
   "outputs": [],
   "source": [
    "# Print the Confusion Matrix\n",
    "labels = [\"Apple\",\"Blueberry\",\"Cherry\",\"Corn\",\"Grape\",\"Orange\",\"Peach\",\"Pepper\",\"Potato\",\"Raspberry\",\"Soybean\",\"Squash\",\"Strawberry\",\"Tomato\"]\n",
    "plt.figure(figsize=(10,8))\n",
    "sns.heatmap(cm.T, xticklabels= labels, yticklabels=list(labels))\n",
    "plt.xlabel('True labels')\n",
    "plt.ylabel('Predicted labels')\n",
    "plt.show()"
   ]
  }
 ],
 "metadata": {
  "accelerator": "GPU",
  "colab": {
   "authorship_tag": "ABX9TyP0fVu0PnnEIVW5J3mvRPub",
   "collapsed_sections": [],
   "name": "test.ipynb",
   "provenance": []
  },
  "kernelspec": {
   "display_name": "Python 3 (ipykernel)",
   "language": "python",
   "name": "python3"
  },
  "language_info": {
   "codemirror_mode": {
    "name": "ipython",
    "version": 3
   },
   "file_extension": ".py",
   "mimetype": "text/x-python",
   "name": "python",
   "nbconvert_exporter": "python",
   "pygments_lexer": "ipython3",
   "version": "3.8.3"
  }
 },
 "nbformat": 4,
 "nbformat_minor": 1
}
