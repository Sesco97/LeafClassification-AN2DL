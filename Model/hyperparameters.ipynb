{
 "cells": [
  {
   "cell_type": "markdown",
   "metadata": {
    "id": "fD1B7B9aaC2G"
   },
   "source": [
    "# HyperParameters Tuning"
   ]
  },
  {
   "cell_type": "markdown",
   "metadata": {
    "id": "ZLjycUdFbK_-"
   },
   "source": [
    "## Initial Operations"
   ]
  },
  {
   "cell_type": "markdown",
   "metadata": {
    "id": "Pi7GHBcyarbc"
   },
   "source": [
    "### Import the libraries"
   ]
  },
  {
   "cell_type": "code",
   "execution_count": null,
   "metadata": {
    "execution": {
     "iopub.execute_input": "2021-11-17T10:34:15.709873Z",
     "iopub.status.busy": "2021-11-17T10:34:15.709430Z",
     "iopub.status.idle": "2021-11-17T10:34:20.425421Z",
     "shell.execute_reply": "2021-11-17T10:34:20.424685Z",
     "shell.execute_reply.started": "2021-11-17T10:34:15.709838Z"
    },
    "id": "Kad8mvnp85ML"
   },
   "outputs": [],
   "source": [
    "!pip install keras_tuner\n",
    "!pip install tensorflow\n",
    "\n",
    "import os\n",
    "import numpy as np\n",
    "import random\n",
    "import tensorflow as tf\n",
    "import keras_tuner as kt\n",
    "import matplotlib.pyplot as plt\n",
    "from PIL import Image\n",
    "from tensorflow.keras.preprocessing.image import ImageDataGenerator\n",
    "\n",
    "tfk = tf.keras\n",
    "tfkl = tf.keras.layers"
   ]
  },
  {
   "cell_type": "markdown",
   "metadata": {
    "id": "SR4yzYgXat7I"
   },
   "source": [
    "### Set random seed for reproducibility"
   ]
  },
  {
   "cell_type": "code",
   "execution_count": null,
   "metadata": {
    "execution": {
     "iopub.execute_input": "2021-11-17T10:34:20.428318Z",
     "iopub.status.busy": "2021-11-17T10:34:20.427881Z",
     "iopub.status.idle": "2021-11-17T10:34:20.434835Z",
     "shell.execute_reply": "2021-11-17T10:34:20.433224Z",
     "shell.execute_reply.started": "2021-11-17T10:34:20.428281Z"
    },
    "id": "iO9iF8fUO11O"
   },
   "outputs": [],
   "source": [
    "# Random seed for reproducibility\n",
    "seed = 69\n",
    "\n",
    "random.seed(seed)\n",
    "os.environ['PYTHONHASHSEED'] = str(seed)\n",
    "np.random.seed(seed)\n",
    "tf.random.set_seed(seed)\n",
    "tf.compat.v1.set_random_seed(seed)"
   ]
  },
  {
   "cell_type": "markdown",
   "metadata": {
    "id": "GHDgTOQLayoM"
   },
   "source": [
    "### Metadata"
   ]
  },
  {
   "cell_type": "code",
   "execution_count": null,
   "metadata": {
    "execution": {
     "iopub.execute_input": "2021-11-17T10:34:20.436942Z",
     "iopub.status.busy": "2021-11-17T10:34:20.436697Z",
     "iopub.status.idle": "2021-11-17T10:34:20.451647Z",
     "shell.execute_reply": "2021-11-17T10:34:20.450942Z",
     "shell.execute_reply.started": "2021-11-17T10:34:20.436907Z"
    },
    "id": "voCaRwS49Mol"
   },
   "outputs": [],
   "source": [
    "training_dir = '../Data/dataset_no_corrupted/training'\n",
    "validation_dir = '../Data/dataset_no_corrupted/validation'"
   ]
  },
  {
   "cell_type": "code",
   "execution_count": null,
   "metadata": {
    "execution": {
     "iopub.execute_input": "2021-11-17T10:34:20.454259Z",
     "iopub.status.busy": "2021-11-17T10:34:20.452767Z",
     "iopub.status.idle": "2021-11-17T10:34:20.459704Z",
     "shell.execute_reply": "2021-11-17T10:34:20.459054Z",
     "shell.execute_reply.started": "2021-11-17T10:34:20.454182Z"
    },
    "id": "8pzhE2DTTNyj"
   },
   "outputs": [],
   "source": [
    "input_shape = (256, 256, 3)\n",
    "epochs = 200"
   ]
  },
  {
   "cell_type": "markdown",
   "metadata": {
    "id": "JejthrwZAGzO"
   },
   "source": [
    "## Model - Transfer Learning from InceptionResNetV2"
   ]
  },
  {
   "cell_type": "markdown",
   "metadata": {
    "id": "x9KwHqXIbTkX"
   },
   "source": [
    "### Data Generators"
   ]
  },
  {
   "cell_type": "code",
   "execution_count": null,
   "metadata": {
    "execution": {
     "iopub.execute_input": "2021-11-17T10:34:20.462863Z",
     "iopub.status.busy": "2021-11-17T10:34:20.462545Z",
     "iopub.status.idle": "2021-11-17T10:34:23.325357Z",
     "shell.execute_reply": "2021-11-17T10:34:23.324585Z",
     "shell.execute_reply.started": "2021-11-17T10:34:20.462833Z"
    },
    "id": "sqohXOL3AJyQ"
   },
   "outputs": [],
   "source": [
    "from tensorflow.keras.applications.inception_resnet_v2 import preprocess_input\n",
    "\n",
    "train_data_gen = ImageDataGenerator(rotation_range=90,\n",
    "                                    height_shift_range=100,\n",
    "                                    width_shift_range=100,\n",
    "                                    zoom_range=0.5,\n",
    "                                    horizontal_flip=True,\n",
    "                                    vertical_flip=True,\n",
    "                                    shear_range = 0.25,\n",
    "                                    fill_mode='reflect',\n",
    "                                    brightness_range=[0.5,1.5],\n",
    "                                    preprocessing_function = preprocess_input)\n",
    "val_data_gen = ImageDataGenerator(preprocessing_function = preprocess_input)\n",
    "\n",
    "train_gen = train_data_gen.flow_from_directory(directory=training_dir,\n",
    "                                               target_size=(256,256),\n",
    "                                               color_mode='rgb',\n",
    "                                               classes=None,\n",
    "                                               class_mode='categorical',\n",
    "                                               batch_size=128,\n",
    "                                               shuffle=True,\n",
    "                                               seed=seed)\n",
    "validation_gen = val_data_gen.flow_from_directory(directory=validation_dir,\n",
    "                                           target_size=(256,256),\n",
    "                                           color_mode='rgb',\n",
    "                                           classes=None,\n",
    "                                           class_mode='categorical',\n",
    "                                           batch_size=128,\n",
    "                                           shuffle=True,\n",
    "                                           seed=seed)"
   ]
  },
  {
   "cell_type": "markdown",
   "metadata": {
    "id": "bYXz7kR0glhL"
   },
   "source": [
    "### Class Weight (for Unbalanced Classes)"
   ]
  },
  {
   "cell_type": "code",
   "execution_count": null,
   "metadata": {
    "execution": {
     "iopub.execute_input": "2021-11-17T10:34:23.327246Z",
     "iopub.status.busy": "2021-11-17T10:34:23.326586Z",
     "iopub.status.idle": "2021-11-17T10:34:23.343137Z",
     "shell.execute_reply": "2021-11-17T10:34:23.342507Z",
     "shell.execute_reply.started": "2021-11-17T10:34:23.327206Z"
    },
    "id": "Og7f5o4lgp1j"
   },
   "outputs": [],
   "source": [
    "classes = dict()\n",
    "for label in sorted(os.listdir(training_dir)):\n",
    "  classes[label] = len(os.listdir(training_dir + \"/\" + label))\n",
    "total = 0\n",
    "class_weight = dict()\n",
    "for i, samples_number in enumerate(classes.values()):\n",
    "    class_weight[i] = 1/samples_number\n",
    "    total += samples_number\n",
    "class_weight = {key:value*total/14 for key, value in class_weight.items()}"
   ]
  },
  {
   "cell_type": "markdown",
   "metadata": {
    "id": "jJDeEHBniyqG"
   },
   "source": [
    "### Supernet (InceptionResNetV2)"
   ]
  },
  {
   "cell_type": "code",
   "execution_count": null,
   "metadata": {
    "colab": {
     "base_uri": "https://localhost:8080/"
    },
    "execution": {
     "iopub.execute_input": "2021-11-17T10:34:23.344661Z",
     "iopub.status.busy": "2021-11-17T10:34:23.344394Z",
     "iopub.status.idle": "2021-11-17T10:34:31.663765Z",
     "shell.execute_reply": "2021-11-17T10:34:31.663030Z",
     "shell.execute_reply.started": "2021-11-17T10:34:23.344627Z"
    },
    "executionInfo": {
     "elapsed": 5325,
     "status": "ok",
     "timestamp": 1637783859377,
     "user": {
      "displayName": "Andrea Deretti",
      "photoUrl": "https://lh3.googleusercontent.com/a/default-user=s64",
      "userId": "07489008405747309706"
     },
     "user_tz": -60
    },
    "id": "nHbmUsyNcGcZ",
    "jupyter": {
     "outputs_hidden": true
    },
    "outputId": "20010480-b03b-48a2-b586-7f3e13070a3f"
   },
   "outputs": [],
   "source": [
    "# Download the supernet\n",
    "supernet = tfk.applications.inception_resnet_v2.InceptionResNetV2(\n",
    "    include_top=False,\n",
    "    weights=\"imagenet\",\n",
    "    input_shape=(256,256,3)\n",
    ")"
   ]
  },
  {
   "cell_type": "markdown",
   "metadata": {
    "id": "0nQZaQoziyqH"
   },
   "source": [
    "### Model Definition"
   ]
  },
  {
   "cell_type": "code",
   "execution_count": null,
   "metadata": {
    "execution": {
     "iopub.execute_input": "2021-11-17T10:34:31.665770Z",
     "iopub.status.busy": "2021-11-17T10:34:31.665483Z",
     "iopub.status.idle": "2021-11-17T10:34:33.029612Z",
     "shell.execute_reply": "2021-11-17T10:34:33.028869Z",
     "shell.execute_reply.started": "2021-11-17T10:34:31.665736Z"
    },
    "id": "Lkv7jWRlBckt"
   },
   "outputs": [],
   "source": [
    "# Build the model\n",
    "def build_model(hp):\n",
    "  # Fine Tuning - Freeze the first layers\n",
    "  fine_tuning_parameters = hp.Choice('fine_tuning_parameters',values = [460,510,600])\n",
    "  supernet.trainable = True\n",
    "  for i, layer in enumerate(supernet.layers[:fine_tuning_parameters]):\n",
    "    layer.trainable=False\n",
    "  \n",
    "  input_layer = tfk.Input(shape=input_shape)\n",
    "  features_extractor = supernet(input_layer)\n",
    "  flattening = tfkl.Flatten(name='Flattening')(features_extractor)\n",
    "  dp_parameter1 = hp.Float(\"dp_parameter1\",min_value = 0, max_value = 1)\n",
    "  dropuout_flattening = tfkl.Dropout(dp_parameter1, seed=seed)(flattening)\n",
    "  units_parameter1 = hp.Int('units_parameter1', min_value=32, max_value=512, step=32)\n",
    "  dense1 = tfkl.Dense(\n",
    "      units_parameter1, \n",
    "      activation='relu',\n",
    "      kernel_initializer = tfk.initializers.GlorotUniform(seed))(dropuout_flattening)\n",
    "  dp_parameter2 = hp.Float(\"dp_parameter2\",min_value = 0, max_value = 1)\n",
    "  dropout_dense1 = tfkl.Dropout(dp_parameter2, seed=seed)(dense1)\n",
    "  units_parameter2 = hp.Int('units_parameter2', min_value=32, max_value=512, step=32)\n",
    "  dense2 = tfkl.Dense(\n",
    "      units_parameter2, \n",
    "      activation='relu',\n",
    "      kernel_initializer = tfk.initializers.GlorotUniform(seed))(dropout_dense1)\n",
    "  dp_parameter3 = hp.Float(\"dp_parameter3\",min_value = 0, max_value = 1)\n",
    "  dropout_dense2 = tfkl.Dropout(dp_parameter3, seed=seed)(dense2)\n",
    "  units_parameter3 = hp.Int('units_parameter3', min_value=32, max_value=512, step=32)\n",
    "  dense3 = tfkl.Dense(\n",
    "      units_parameter3, \n",
    "      activation='relu',\n",
    "      kernel_initializer = tfk.initializers.GlorotUniform(seed))(dropout_dense2)\n",
    "  dp_parameter4 = hp.Float(\"dp_parameter4\",min_value = 0, max_value = 1)\n",
    "  dropout_dense3 = tfkl.Dropout(dp_parameter4, seed=seed)(dense3)\n",
    "  output_layer = tfkl.Dense(\n",
    "      14, \n",
    "      activation='softmax',\n",
    "      kernel_initializer = tfk.initializers.GlorotUniform(seed))(dropout_dense3)\n",
    "  model = tfk.Model(inputs=input_layer, outputs=output_layer, name='InceptionResNetV2')\n",
    "  model.compile(loss=tfk.losses.CategoricalCrossentropy(), optimizer=tfk.optimizers.Adam(), metrics='accuracy')\n",
    "\n",
    "  return model"
   ]
  },
  {
   "cell_type": "markdown",
   "metadata": {
    "id": "6A3nBPOmvEXx"
   },
   "source": [
    "#### Tuning of the Parameters"
   ]
  },
  {
   "cell_type": "code",
   "execution_count": null,
   "metadata": {
    "id": "aIRVlZcE2DZC"
   },
   "outputs": [],
   "source": [
    "tuner = kt.Hyperband(build_model,\n",
    "                     objective='val_accuracy',\n",
    "                     max_epochs=30,\n",
    "                     project_name='InceptionResNetV2')\n",
    "early_stopping = tfk.callbacks.EarlyStopping(monitor='val_accuracy', mode='max', patience=5)\n",
    "tuner.search(x = train_gen, epochs=50, validation_data = validation_gen, callbacks=[early_stopping])"
   ]
  },
  {
   "cell_type": "code",
   "execution_count": null,
   "metadata": {
    "id": "JqTQ2S7VxprD"
   },
   "outputs": [],
   "source": [
    "best_hps = tuner.get_best_hyperparameters(num_trials=1)[0]\n",
    "print(best_hps)"
   ]
  }
 ],
 "metadata": {
  "accelerator": "GPU",
  "colab": {
   "collapsed_sections": [
    "SR4yzYgXat7I",
    "x9KwHqXIbTkX",
    "bYXz7kR0glhL",
    "jJDeEHBniyqG"
   ],
   "name": "hyperparameters.ipynb",
   "provenance": []
  },
  "kernelspec": {
   "display_name": "Python 3 (ipykernel)",
   "language": "python",
   "name": "python3"
  },
  "language_info": {
   "codemirror_mode": {
    "name": "ipython",
    "version": 3
   },
   "file_extension": ".py",
   "mimetype": "text/x-python",
   "name": "python",
   "nbconvert_exporter": "python",
   "pygments_lexer": "ipython3",
   "version": "3.8.3"
  }
 },
 "nbformat": 4,
 "nbformat_minor": 1
}
