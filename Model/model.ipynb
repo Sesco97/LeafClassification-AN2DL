{
 "cells": [
  {
   "cell_type": "markdown",
   "id": "d376b0db",
   "metadata": {
    "id": "d376b0db",
    "papermill": {
     "duration": 0.017384,
     "end_time": "2021-11-26T08:21:58.641062",
     "exception": false,
     "start_time": "2021-11-26T08:21:58.623678",
     "status": "completed"
    },
    "tags": []
   },
   "source": [
    "# AN2DL - First Challenge"
   ]
  },
  {
   "cell_type": "markdown",
   "id": "ee5bf46b",
   "metadata": {
    "id": "ee5bf46b",
    "papermill": {
     "duration": 0.014247,
     "end_time": "2021-11-26T08:21:58.669916",
     "exception": false,
     "start_time": "2021-11-26T08:21:58.655669",
     "status": "completed"
    },
    "tags": []
   },
   "source": [
    "## Initial Operations"
   ]
  },
  {
   "cell_type": "markdown",
   "id": "bb548992",
   "metadata": {
    "id": "bb548992",
    "papermill": {
     "duration": 0.014067,
     "end_time": "2021-11-26T08:21:58.698341",
     "exception": false,
     "start_time": "2021-11-26T08:21:58.684274",
     "status": "completed"
    },
    "tags": []
   },
   "source": [
    "### Import the libraries"
   ]
  },
  {
   "cell_type": "code",
   "execution_count": null,
   "id": "4beddb23",
   "metadata": {
    "execution": {
     "iopub.execute_input": "2021-11-26T08:21:58.737019Z",
     "iopub.status.busy": "2021-11-26T08:21:58.736214Z",
     "iopub.status.idle": "2021-11-26T08:22:03.464098Z",
     "shell.execute_reply": "2021-11-26T08:22:03.463338Z",
     "shell.execute_reply.started": "2021-11-24T19:09:33.214966Z"
    },
    "id": "4beddb23",
    "papermill": {
     "duration": 4.751546,
     "end_time": "2021-11-26T08:22:03.464263",
     "exception": false,
     "start_time": "2021-11-26T08:21:58.712717",
     "status": "completed"
    },
    "tags": []
   },
   "outputs": [],
   "source": [
    "import os\n",
    "import numpy as np\n",
    "import random\n",
    "import tensorflow as tf\n",
    "from tensorflow.keras.preprocessing.image import ImageDataGenerator\n",
    "\n",
    "tfk = tf.keras\n",
    "tfkl = tf.keras.layers"
   ]
  },
  {
   "cell_type": "markdown",
   "id": "a3b3cee5",
   "metadata": {
    "id": "a3b3cee5",
    "papermill": {
     "duration": 0.014267,
     "end_time": "2021-11-26T08:22:03.493700",
     "exception": false,
     "start_time": "2021-11-26T08:22:03.479433",
     "status": "completed"
    },
    "tags": []
   },
   "source": [
    "### Set random seed for reproducibility"
   ]
  },
  {
   "cell_type": "code",
   "execution_count": null,
   "id": "8fea65ce",
   "metadata": {
    "execution": {
     "iopub.execute_input": "2021-11-26T08:22:03.527661Z",
     "iopub.status.busy": "2021-11-26T08:22:03.526856Z",
     "iopub.status.idle": "2021-11-26T08:22:03.528869Z",
     "shell.execute_reply": "2021-11-26T08:22:03.529231Z",
     "shell.execute_reply.started": "2021-11-24T19:09:37.942023Z"
    },
    "id": "8fea65ce",
    "papermill": {
     "duration": 0.021341,
     "end_time": "2021-11-26T08:22:03.529362",
     "exception": false,
     "start_time": "2021-11-26T08:22:03.508021",
     "status": "completed"
    },
    "tags": []
   },
   "outputs": [],
   "source": [
    "# Random seed for reproducibility\n",
    "seed = 69\n",
    "\n",
    "random.seed(seed)\n",
    "os.environ['PYTHONHASHSEED'] = str(seed)\n",
    "np.random.seed(seed)\n",
    "tf.random.set_seed(seed)\n",
    "tf.compat.v1.set_random_seed(seed)"
   ]
  },
  {
   "cell_type": "markdown",
   "id": "d1f6aa84",
   "metadata": {
    "id": "d1f6aa84",
    "papermill": {
     "duration": 0.014179,
     "end_time": "2021-11-26T08:22:03.558154",
     "exception": false,
     "start_time": "2021-11-26T08:22:03.543975",
     "status": "completed"
    },
    "tags": []
   },
   "source": [
    "### Metadata"
   ]
  },
  {
   "cell_type": "code",
   "execution_count": null,
   "id": "3ef89ef6",
   "metadata": {
    "execution": {
     "iopub.execute_input": "2021-11-26T08:22:03.590460Z",
     "iopub.status.busy": "2021-11-26T08:22:03.589869Z",
     "iopub.status.idle": "2021-11-26T08:22:03.592588Z",
     "shell.execute_reply": "2021-11-26T08:22:03.592066Z",
     "shell.execute_reply.started": "2021-11-24T19:09:37.948018Z"
    },
    "id": "3ef89ef6",
    "papermill": {
     "duration": 0.019937,
     "end_time": "2021-11-26T08:22:03.592691",
     "exception": false,
     "start_time": "2021-11-26T08:22:03.572754",
     "status": "completed"
    },
    "tags": []
   },
   "outputs": [],
   "source": [
    "training_dir = '../Data/dataset_no_corrupted/training'\n",
    "validation_dir = '../Data/dataset_no_corrupted/validation'"
   ]
  },
  {
   "cell_type": "code",
   "execution_count": null,
   "id": "372e6585",
   "metadata": {
    "execution": {
     "iopub.execute_input": "2021-11-26T08:22:03.626135Z",
     "iopub.status.busy": "2021-11-26T08:22:03.625355Z",
     "iopub.status.idle": "2021-11-26T08:22:03.627273Z",
     "shell.execute_reply": "2021-11-26T08:22:03.627709Z",
     "shell.execute_reply.started": "2021-11-24T19:09:37.966365Z"
    },
    "id": "372e6585",
    "papermill": {
     "duration": 0.019992,
     "end_time": "2021-11-26T08:22:03.627832",
     "exception": false,
     "start_time": "2021-11-26T08:22:03.607840",
     "status": "completed"
    },
    "tags": []
   },
   "outputs": [],
   "source": [
    "input_shape = (256, 256, 3)"
   ]
  },
  {
   "cell_type": "markdown",
   "id": "223bfb7c",
   "metadata": {
    "id": "223bfb7c",
    "papermill": {
     "duration": 0.014769,
     "end_time": "2021-11-26T08:22:03.656953",
     "exception": false,
     "start_time": "2021-11-26T08:22:03.642184",
     "status": "completed"
    },
    "tags": []
   },
   "source": [
    "## Model - Transfer Learning from InceptionResNetV2"
   ]
  },
  {
   "cell_type": "markdown",
   "id": "0f5b1a3b",
   "metadata": {
    "id": "0f5b1a3b",
    "papermill": {
     "duration": 0.01409,
     "end_time": "2021-11-26T08:22:03.685422",
     "exception": false,
     "start_time": "2021-11-26T08:22:03.671332",
     "status": "completed"
    },
    "tags": []
   },
   "source": [
    "### Data Generators"
   ]
  },
  {
   "cell_type": "code",
   "execution_count": null,
   "id": "97550cd8",
   "metadata": {
    "execution": {
     "iopub.execute_input": "2021-11-26T08:22:03.721086Z",
     "iopub.status.busy": "2021-11-26T08:22:03.717170Z",
     "iopub.status.idle": "2021-11-26T08:22:08.187243Z",
     "shell.execute_reply": "2021-11-26T08:22:08.187831Z",
     "shell.execute_reply.started": "2021-11-24T19:09:37.9761Z"
    },
    "executionInfo": {
     "elapsed": 795,
     "status": "ok",
     "timestamp": 1637081427936,
     "user": {
      "displayName": "Michele Russo",
      "photoUrl": "https://lh3.googleusercontent.com/a-/AOh14GhyAOV7v4rD3SsSLhmGKIAPUCp5S_U_b_Max0XoRw=s64",
      "userId": "05058015320206708993"
     },
     "user_tz": -60
    },
    "id": "97550cd8",
    "outputId": "79061f79-fbb8-43f9-9699-0cee62b833b3",
    "papermill": {
     "duration": 4.488314,
     "end_time": "2021-11-26T08:22:08.187987",
     "exception": false,
     "start_time": "2021-11-26T08:22:03.699673",
     "status": "completed"
    },
    "tags": []
   },
   "outputs": [],
   "source": [
    "from tensorflow.keras.applications.inception_resnet_v2 import preprocess_input\n",
    "\n",
    "train_data_gen = ImageDataGenerator(rotation_range=90,\n",
    "                                    height_shift_range=100,\n",
    "                                    width_shift_range=100,\n",
    "                                    zoom_range=0.5,\n",
    "                                    horizontal_flip=True,\n",
    "                                    vertical_flip=True,\n",
    "                                    shear_range = 0.25,\n",
    "                                    fill_mode='reflect',\n",
    "                                    brightness_range=[0.5,1.5],\n",
    "                                    preprocessing_function = preprocess_input)\n",
    "val_data_gen = ImageDataGenerator(preprocessing_function = preprocess_input)\n",
    "\n",
    "train_gen = train_data_gen.flow_from_directory(directory=training_dir,\n",
    "                                               target_size=(256,256),\n",
    "                                               color_mode='rgb',\n",
    "                                               classes=None,\n",
    "                                               class_mode='categorical',\n",
    "                                               batch_size=128,\n",
    "                                               shuffle=True,\n",
    "                                               seed=seed)\n",
    "validation_gen = val_data_gen.flow_from_directory(directory=validation_dir,\n",
    "                                           target_size=(256,256),\n",
    "                                           color_mode='rgb',\n",
    "                                           classes=None,\n",
    "                                           class_mode='categorical',\n",
    "                                           batch_size=128,\n",
    "                                           shuffle=True,\n",
    "                                           seed=seed)"
   ]
  },
  {
   "cell_type": "markdown",
   "id": "d0822b02",
   "metadata": {
    "id": "d0822b02",
    "papermill": {
     "duration": 0.01503,
     "end_time": "2021-11-26T08:22:08.218854",
     "exception": false,
     "start_time": "2021-11-26T08:22:08.203824",
     "status": "completed"
    },
    "tags": []
   },
   "source": [
    "### Class Weight (for Unbalanced Classes)"
   ]
  },
  {
   "cell_type": "code",
   "execution_count": null,
   "id": "a046f2a5",
   "metadata": {
    "execution": {
     "iopub.execute_input": "2021-11-26T08:22:08.254443Z",
     "iopub.status.busy": "2021-11-26T08:22:08.253796Z",
     "iopub.status.idle": "2021-11-26T08:22:08.267562Z",
     "shell.execute_reply": "2021-11-26T08:22:08.267024Z",
     "shell.execute_reply.started": "2021-11-24T19:09:42.241043Z"
    },
    "id": "a046f2a5",
    "papermill": {
     "duration": 0.033848,
     "end_time": "2021-11-26T08:22:08.267669",
     "exception": false,
     "start_time": "2021-11-26T08:22:08.233821",
     "status": "completed"
    },
    "tags": []
   },
   "outputs": [],
   "source": [
    "classes = dict()\n",
    "for label in sorted(os.listdir(training_dir)):\n",
    "  classes[label] = len(os.listdir(training_dir + \"/\" + label))\n",
    "total = 0\n",
    "class_weight = dict()\n",
    "for i, samples_number in enumerate(classes.values()):\n",
    "    class_weight[i] = 1/samples_number\n",
    "    total += samples_number\n",
    "class_weight = {key:value*total/14 for key, value in class_weight.items()}"
   ]
  },
  {
   "cell_type": "markdown",
   "id": "f1fc4f92",
   "metadata": {
    "id": "f1fc4f92",
    "papermill": {
     "duration": 0.014804,
     "end_time": "2021-11-26T08:22:08.297399",
     "exception": false,
     "start_time": "2021-11-26T08:22:08.282595",
     "status": "completed"
    },
    "tags": []
   },
   "source": [
    "### Model Definition"
   ]
  },
  {
   "cell_type": "markdown",
   "id": "ce91f8bf",
   "metadata": {
    "id": "ce91f8bf",
    "papermill": {
     "duration": 0.014799,
     "end_time": "2021-11-26T08:22:08.327166",
     "exception": false,
     "start_time": "2021-11-26T08:22:08.312367",
     "status": "completed"
    },
    "tags": []
   },
   "source": [
    "#### Supernet (InceptionResNetV2)"
   ]
  },
  {
   "cell_type": "code",
   "execution_count": null,
   "id": "7ee0c96a",
   "metadata": {
    "execution": {
     "iopub.execute_input": "2021-11-26T08:22:08.364073Z",
     "iopub.status.busy": "2021-11-26T08:22:08.361191Z",
     "iopub.status.idle": "2021-11-26T08:22:16.360658Z",
     "shell.execute_reply": "2021-11-26T08:22:16.360087Z",
     "shell.execute_reply.started": "2021-11-24T19:11:39.080673Z"
    },
    "executionInfo": {
     "elapsed": 224,
     "status": "ok",
     "timestamp": 1637081600091,
     "user": {
      "displayName": "Michele Russo",
      "photoUrl": "https://lh3.googleusercontent.com/a-/AOh14GhyAOV7v4rD3SsSLhmGKIAPUCp5S_U_b_Max0XoRw=s64",
      "userId": "05058015320206708993"
     },
     "user_tz": -60
    },
    "id": "7ee0c96a",
    "outputId": "f32d896a-835e-4a29-8d49-772b3015a125",
    "papermill": {
     "duration": 8.018606,
     "end_time": "2021-11-26T08:22:16.360814",
     "exception": false,
     "start_time": "2021-11-26T08:22:08.342208",
     "status": "completed"
    },
    "tags": []
   },
   "outputs": [],
   "source": [
    "# Download the supernet\n",
    "supernet = tfk.applications.inception_resnet_v2.InceptionResNetV2(\n",
    "    include_top=False,\n",
    "    weights=\"imagenet\",\n",
    "    input_shape=(256,256,3)\n",
    ")\n",
    "# Fine Tuning - Freeze the first layers\n",
    "supernet.trainable = True\n",
    "for i, layer in enumerate(supernet.layers[:460]):\n",
    "    layer.trainable=False"
   ]
  },
  {
   "cell_type": "markdown",
   "id": "dcf2040a",
   "metadata": {
    "id": "dcf2040a",
    "papermill": {
     "duration": 0.022091,
     "end_time": "2021-11-26T08:22:16.405761",
     "exception": false,
     "start_time": "2021-11-26T08:22:16.383670",
     "status": "completed"
    },
    "tags": []
   },
   "source": [
    "#### Additional Dense Layers"
   ]
  },
  {
   "cell_type": "code",
   "execution_count": null,
   "id": "80982bc7",
   "metadata": {
    "execution": {
     "iopub.execute_input": "2021-11-26T08:22:16.463241Z",
     "iopub.status.busy": "2021-11-26T08:22:16.462198Z",
     "iopub.status.idle": "2021-11-26T08:22:17.802768Z",
     "shell.execute_reply": "2021-11-26T08:22:17.802234Z",
     "shell.execute_reply.started": "2021-11-24T19:11:54.925039Z"
    },
    "id": "80982bc7",
    "papermill": {
     "duration": 1.374702,
     "end_time": "2021-11-26T08:22:17.802902",
     "exception": false,
     "start_time": "2021-11-26T08:22:16.428200",
     "status": "completed"
    },
    "tags": []
   },
   "outputs": [],
   "source": [
    "# Build the model\n",
    "input_layer = tfk.Input(shape=input_shape)\n",
    "features_extractor = supernet(input_layer)\n",
    "flattening = tfkl.Flatten(name='Flattening')(features_extractor)\n",
    "dropuout_flattening = tfkl.Dropout(0.2, seed=seed)(flattening)\n",
    "dense1 = tfkl.Dense(\n",
    "    512, \n",
    "    activation='relu',\n",
    "    kernel_initializer = tfk.initializers.GlorotUniform(seed))(dropuout_flattening)\n",
    "dropout_dense1 = tfkl.Dropout(0.3, seed=seed)(dense1)\n",
    "dense2 = tfkl.Dense(\n",
    "    480, \n",
    "    activation='relu',\n",
    "    kernel_initializer = tfk.initializers.GlorotUniform(seed))(dropout_dense1)\n",
    "dropout_dense2 = tfkl.Dropout(0.2, seed=seed)(dense2)\n",
    "dense3 = tfkl.Dense(\n",
    "    192, \n",
    "    activation='relu',\n",
    "    kernel_initializer = tfk.initializers.GlorotUniform(seed))(dropout_dense2)\n",
    "dropout_dense3 = tfkl.Dropout(0.15, seed=seed)(dense3)\n",
    "output_layer = tfkl.Dense(\n",
    "    14, \n",
    "    activation='softmax',\n",
    "    kernel_initializer = tfk.initializers.GlorotUniform(seed))(dropout_dense3)\n",
    "model = tfk.Model(inputs=input_layer, outputs=output_layer, name='InceptionResNetV2_SameLR')"
   ]
  },
  {
   "cell_type": "markdown",
   "id": "d13576f8",
   "metadata": {
    "id": "d13576f8",
    "papermill": {
     "duration": 0.022016,
     "end_time": "2021-11-26T08:22:17.847834",
     "exception": false,
     "start_time": "2021-11-26T08:22:17.825818",
     "status": "completed"
    },
    "tags": []
   },
   "source": [
    "### Model Training"
   ]
  },
  {
   "cell_type": "markdown",
   "id": "c1362792",
   "metadata": {
    "id": "c1362792",
    "papermill": {
     "duration": 0.022163,
     "end_time": "2021-11-26T08:22:17.893090",
     "exception": false,
     "start_time": "2021-11-26T08:22:17.870927",
     "status": "completed"
    },
    "tags": []
   },
   "source": [
    "#### Callbacks"
   ]
  },
  {
   "cell_type": "code",
   "execution_count": null,
   "id": "18593cb7",
   "metadata": {
    "execution": {
     "iopub.execute_input": "2021-11-26T08:22:17.988614Z",
     "iopub.status.busy": "2021-11-26T08:22:17.987683Z",
     "iopub.status.idle": "2021-11-26T08:22:17.999449Z",
     "shell.execute_reply": "2021-11-26T08:22:18.000144Z",
     "shell.execute_reply.started": "2021-11-24T19:12:02.745837Z"
    },
    "id": "18593cb7",
    "papermill": {
     "duration": 0.061844,
     "end_time": "2021-11-26T08:22:18.000346",
     "exception": false,
     "start_time": "2021-11-26T08:22:17.938502",
     "status": "completed"
    },
    "tags": []
   },
   "outputs": [],
   "source": [
    "def callbacks(dir,checkpoint = False):\n",
    "    callbacks = []\n",
    "    if checkpoint:\n",
    "        # Checkpoints\n",
    "        checkpoints_dir = os.path.join(dir,\"Checkpoint\")\n",
    "        if not os.path.exists(checkpoints_dir):\n",
    "            os.makedirs(checkpoints_dir)\n",
    "        checkpoint = tfk.callbacks.ModelCheckpoint(filepath=os.path.join(checkpoints_dir,\"Model.hdf5\"),\n",
    "                                                   monitor = \"accuracy\",\n",
    "                                                   save_weights_only=False,\n",
    "                                                   save_best_only=True\n",
    "                                                  )\n",
    "        callbacks.append(checkpoint)\n",
    "    # Tensorboard\n",
    "    tensorboard_dir = os.path.join(dir,\"TensorBoard\")\n",
    "    if not os.path.exists(tensorboard_dir):\n",
    "        os.makedirs(tensorboard_dir)\n",
    "    tensorboard = tf.keras.callbacks.TensorBoard(log_dir=tensorboard_dir,\n",
    "                                                 profile_batch=0,\n",
    "                                                 histogram_freq=1)\n",
    "    callbacks.append(tensorboard)\n",
    "    \n",
    "    return callbacks"
   ]
  },
  {
   "cell_type": "markdown",
   "id": "7158290e",
   "metadata": {
    "id": "7158290e",
    "papermill": {
     "duration": 0.02782,
     "end_time": "2021-11-26T08:22:18.069970",
     "exception": false,
     "start_time": "2021-11-26T08:22:18.042150",
     "status": "completed"
    },
    "tags": []
   },
   "source": [
    "#### First Run (Bigger Learning Rate)"
   ]
  },
  {
   "cell_type": "code",
   "execution_count": null,
   "id": "5adf8045",
   "metadata": {
    "execution": {
     "iopub.execute_input": "2021-11-26T08:22:18.131099Z",
     "iopub.status.busy": "2021-11-26T08:22:18.130285Z",
     "iopub.status.idle": "2021-11-26T09:56:11.114128Z",
     "shell.execute_reply": "2021-11-26T09:56:11.113247Z",
     "shell.execute_reply.started": "2021-11-24T19:12:05.353396Z"
    },
    "id": "5adf8045",
    "outputId": "aa381263-7c95-46ce-de23-3f189a1e122d",
    "papermill": {
     "duration": 5633.021681,
     "end_time": "2021-11-26T09:56:11.114282",
     "exception": false,
     "start_time": "2021-11-26T08:22:18.092601",
     "status": "completed"
    },
    "tags": []
   },
   "outputs": [],
   "source": [
    "model.compile(loss=tfk.losses.CategoricalCrossentropy(), optimizer=tfk.optimizers.Adam(learning_rate = 1e-4), metrics='accuracy')\n",
    "history = model.fit(\n",
    "    x = train_gen,\n",
    "    epochs = 15,\n",
    "    validation_data = validation_gen,\n",
    "    callbacks = callbacks('First'),\n",
    "    class_weight=class_weight\n",
    ").history"
   ]
  },
  {
   "cell_type": "markdown",
   "id": "0bc3aeed",
   "metadata": {
    "id": "0bc3aeed",
    "papermill": {
     "duration": 0.519607,
     "end_time": "2021-11-26T09:56:12.153717",
     "exception": false,
     "start_time": "2021-11-26T09:56:11.634110",
     "status": "completed"
    },
    "tags": []
   },
   "source": [
    "#### Second Run (Smaller Learning Rate and Bigger Epsilon)"
   ]
  },
  {
   "cell_type": "code",
   "execution_count": null,
   "id": "24cc8dc9",
   "metadata": {
    "execution": {
     "iopub.execute_input": "2021-11-26T09:56:13.204869Z",
     "iopub.status.busy": "2021-11-26T09:56:13.203995Z",
     "iopub.status.idle": "2021-11-26T12:00:26.870009Z",
     "shell.execute_reply": "2021-11-26T12:00:26.869427Z"
    },
    "id": "24cc8dc9",
    "outputId": "573c5d0c-9f5b-4204-c17b-0c9dbe6c41de",
    "papermill": {
     "duration": 7454.196984,
     "end_time": "2021-11-26T12:00:26.870160",
     "exception": false,
     "start_time": "2021-11-26T09:56:12.673176",
     "status": "completed"
    },
    "tags": []
   },
   "outputs": [],
   "source": [
    "model.compile(loss=tfk.losses.CategoricalCrossentropy(), optimizer=tfk.optimizers.Adam(learning_rate = 1e-5,epsilon = 1e-4), metrics='accuracy')\n",
    "history = model.fit(\n",
    "    x = train_gen,\n",
    "    epochs = 20,\n",
    "    validation_data = validation_gen,\n",
    "    callbacks = callbacks('Second',checkpoint = True),\n",
    "    class_weight=class_weight\n",
    ").history"
   ]
  }
 ],
 "metadata": {
  "colab": {
   "collapsed_sections": [
    "bb548992",
    "a3b3cee5"
   ],
   "name": "model.ipynb",
   "provenance": []
  },
  "kernelspec": {
   "display_name": "Python 3 (ipykernel)",
   "language": "python",
   "name": "python3"
  },
  "language_info": {
   "codemirror_mode": {
    "name": "ipython",
    "version": 3
   },
   "file_extension": ".py",
   "mimetype": "text/x-python",
   "name": "python",
   "nbconvert_exporter": "python",
   "pygments_lexer": "ipython3",
   "version": "3.8.3"
  },
  "papermill": {
   "default_parameters": {},
   "duration": 13120.746582,
   "end_time": "2021-11-26T12:00:31.860359",
   "environment_variables": {},
   "exception": null,
   "input_path": "__notebook__.ipynb",
   "output_path": "__notebook__.ipynb",
   "parameters": {},
   "start_time": "2021-11-26T08:21:51.113777",
   "version": "2.3.3"
  }
 },
 "nbformat": 4,
 "nbformat_minor": 5
}
